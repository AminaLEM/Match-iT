{
 "cells": [
  {
   "cell_type": "code",
   "execution_count": 1,
   "id": "59bc349d",
   "metadata": {},
   "outputs": [
    {
     "name": "stderr",
     "output_type": "stream",
     "text": [
      "\n",
      "Attaching package: ‘dplyr’\n",
      "\n",
      "\n",
      "The following objects are masked from ‘package:stats’:\n",
      "\n",
      "    filter, lag\n",
      "\n",
      "\n",
      "The following objects are masked from ‘package:base’:\n",
      "\n",
      "    intersect, setdiff, setequal, union\n",
      "\n",
      "\n",
      "Loading required package: SnowballC\n",
      "\n",
      "Attaching SeuratObject\n",
      "\n",
      "Seurat v4 was just loaded with SeuratObject v5; disabling v5 assays and\n",
      "validation routines, and ensuring assays work in strict v3/v4\n",
      "compatibility mode\n",
      "\n"
     ]
    }
   ],
   "source": [
    "library(dplyr)\n",
    "library(lsa)\n",
    "library(DOT)\n",
    "library(Seurat)\n",
    "set.seed(42) "
   ]
  },
  {
   "cell_type": "code",
   "execution_count": 2,
   "id": "92fc0f64",
   "metadata": {},
   "outputs": [
    {
     "name": "stdout",
     "output_type": "stream",
     "text": [
      "Folder already exists: tab_out3 \n"
     ]
    }
   ],
   "source": [
    "# table output folder\n",
    "out_folder='tab_out3'\n",
    "if (!dir.exists(out_folder)) {\n",
    "  dir.create(out_folder, recursive = TRUE)\n",
    "} else {\n",
    "  cat(\"Folder already exists:\", out_folder, \"\\n\")\n",
    "}"
   ]
  },
  {
   "cell_type": "code",
   "execution_count": 3,
   "id": "521fe4ae",
   "metadata": {},
   "outputs": [],
   "source": [
    "corr_cos_plot <- function(X_org_, X_pred_, sample = TRUE) {\n",
    "  # Transpose the data if sample is TRUE\n",
    "  if (!sample) {\n",
    "    X_pred_ <- t(X_pred_)\n",
    "    X_org_ <- t(X_org_)\n",
    "  }\n",
    "  \n",
    "  # Compute the correlation matrix\n",
    "  corr_matrix <- cor(X_org_, X_pred_, use = \"pairwise.complete.obs\")\n",
    "  num_cols <- ncol(X_org_)\n",
    "  correlations <- diag(corr_matrix)\n",
    "  \n",
    "  # Create a named vector for correlations\n",
    "  correlation_results <- setNames(correlations, colnames(X_org_))\n",
    "  mean_corr <- mean(correlation_results)\n",
    "  \n",
    "  # Compute cosine similarity\n",
    "cosine_results <- sapply(seq_len(ncol(X_org_)), function(i) {\n",
    "    cosine(X_org_[, i], X_pred_[, i])\n",
    "  })\n",
    "  mean_cos <- mean(cosine_results, na.rm = TRUE)\n",
    "    \n",
    "  # Return the results\n",
    "  return(list(correlation_results = correlation_results, cosine_results = cosine_results))\n",
    "}\n"
   ]
  },
  {
   "cell_type": "markdown",
   "id": "13e58d6f",
   "metadata": {},
   "source": [
    "# Load scRNAseq reference data with cell annotation"
   ]
  },
  {
   "cell_type": "code",
   "execution_count": 4,
   "id": "e530b84a",
   "metadata": {},
   "outputs": [
    {
     "data": {
      "text/html": [
       "<table class=\"dataframe\">\n",
       "<caption>A data.frame: 6 × 3</caption>\n",
       "<thead>\n",
       "\t<tr><th></th><th scope=col>sampleAC</th><th scope=col>celltype_l2</th><th scope=col>celltype_l1.2</th></tr>\n",
       "\t<tr><th></th><th scope=col>&lt;chr&gt;</th><th scope=col>&lt;chr&gt;</th><th scope=col>&lt;chr&gt;</th></tr>\n",
       "</thead>\n",
       "<tbody>\n",
       "\t<tr><th scope=row>BDP1083_GAGACCCAGGTTAGTA-1</th><td>BDP1083_11_mut</td><td>Pod_Injured</td><td>Pod        </td></tr>\n",
       "\t<tr><th scope=row>BDP1083_TGTGGCGCATAGCCTT-1</th><td>BDP1083_11_mut</td><td>SMC        </td><td>SMC        </td></tr>\n",
       "\t<tr><th scope=row>BDP1083_ATTGCATTCCGTTAGC-1</th><td>BDP1083_11_mut</td><td>PC         </td><td>PC         </td></tr>\n",
       "\t<tr><th scope=row>BDP1083_ATTTAGCTCGAGGCGT-1</th><td>BDP1083_11_mut</td><td>PTS_Injured</td><td>PTS_Injured</td></tr>\n",
       "\t<tr><th scope=row>BDP1083_ACTCAATTCACGGACA-1</th><td>BDP1083_11_mut</td><td>TAL        </td><td>TAL        </td></tr>\n",
       "\t<tr><th scope=row>BDP1083_GTGAAACTCAACCAAA-1</th><td>BDP1083_11_mut</td><td>PTS1       </td><td>PTS1       </td></tr>\n",
       "</tbody>\n",
       "</table>\n"
      ],
      "text/latex": [
       "A data.frame: 6 × 3\n",
       "\\begin{tabular}{r|lll}\n",
       "  & sampleAC & celltype\\_l2 & celltype\\_l1.2\\\\\n",
       "  & <chr> & <chr> & <chr>\\\\\n",
       "\\hline\n",
       "\tBDP1083\\_GAGACCCAGGTTAGTA-1 & BDP1083\\_11\\_mut & Pod\\_Injured & Pod        \\\\\n",
       "\tBDP1083\\_TGTGGCGCATAGCCTT-1 & BDP1083\\_11\\_mut & SMC         & SMC        \\\\\n",
       "\tBDP1083\\_ATTGCATTCCGTTAGC-1 & BDP1083\\_11\\_mut & PC          & PC         \\\\\n",
       "\tBDP1083\\_ATTTAGCTCGAGGCGT-1 & BDP1083\\_11\\_mut & PTS\\_Injured & PTS\\_Injured\\\\\n",
       "\tBDP1083\\_ACTCAATTCACGGACA-1 & BDP1083\\_11\\_mut & TAL         & TAL        \\\\\n",
       "\tBDP1083\\_GTGAAACTCAACCAAA-1 & BDP1083\\_11\\_mut & PTS1        & PTS1       \\\\\n",
       "\\end{tabular}\n"
      ],
      "text/markdown": [
       "\n",
       "A data.frame: 6 × 3\n",
       "\n",
       "| <!--/--> | sampleAC &lt;chr&gt; | celltype_l2 &lt;chr&gt; | celltype_l1.2 &lt;chr&gt; |\n",
       "|---|---|---|---|\n",
       "| BDP1083_GAGACCCAGGTTAGTA-1 | BDP1083_11_mut | Pod_Injured | Pod         |\n",
       "| BDP1083_TGTGGCGCATAGCCTT-1 | BDP1083_11_mut | SMC         | SMC         |\n",
       "| BDP1083_ATTGCATTCCGTTAGC-1 | BDP1083_11_mut | PC          | PC          |\n",
       "| BDP1083_ATTTAGCTCGAGGCGT-1 | BDP1083_11_mut | PTS_Injured | PTS_Injured |\n",
       "| BDP1083_ACTCAATTCACGGACA-1 | BDP1083_11_mut | TAL         | TAL         |\n",
       "| BDP1083_GTGAAACTCAACCAAA-1 | BDP1083_11_mut | PTS1        | PTS1        |\n",
       "\n"
      ],
      "text/plain": [
       "                           sampleAC       celltype_l2 celltype_l1.2\n",
       "BDP1083_GAGACCCAGGTTAGTA-1 BDP1083_11_mut Pod_Injured Pod          \n",
       "BDP1083_TGTGGCGCATAGCCTT-1 BDP1083_11_mut SMC         SMC          \n",
       "BDP1083_ATTGCATTCCGTTAGC-1 BDP1083_11_mut PC          PC           \n",
       "BDP1083_ATTTAGCTCGAGGCGT-1 BDP1083_11_mut PTS_Injured PTS_Injured  \n",
       "BDP1083_ACTCAATTCACGGACA-1 BDP1083_11_mut TAL         TAL          \n",
       "BDP1083_GTGAAACTCAACCAAA-1 BDP1083_11_mut PTS1        PTS1         "
      ]
     },
     "metadata": {},
     "output_type": "display_data"
    },
    {
     "name": "stdout",
     "output_type": "stream",
     "text": [
      "Loading sample: BDP1083 \n"
     ]
    },
    {
     "name": "stderr",
     "output_type": "stream",
     "text": [
      "Warning message:\n",
      "“Feature names cannot have underscores ('_'), replacing with dashes ('-')”\n",
      "Warning message:\n",
      "“Feature names cannot have underscores ('_'), replacing with dashes ('-')”\n"
     ]
    },
    {
     "name": "stdout",
     "output_type": "stream",
     "text": [
      "Loading sample: BDP1105 \n"
     ]
    },
    {
     "name": "stderr",
     "output_type": "stream",
     "text": [
      "Warning message:\n",
      "“Feature names cannot have underscores ('_'), replacing with dashes ('-')”\n",
      "Warning message:\n",
      "“Feature names cannot have underscores ('_'), replacing with dashes ('-')”\n"
     ]
    },
    {
     "name": "stdout",
     "output_type": "stream",
     "text": [
      "Loading sample: BDP1130 \n"
     ]
    },
    {
     "name": "stderr",
     "output_type": "stream",
     "text": [
      "Warning message:\n",
      "“Feature names cannot have underscores ('_'), replacing with dashes ('-')”\n",
      "Warning message:\n",
      "“Feature names cannot have underscores ('_'), replacing with dashes ('-')”\n"
     ]
    },
    {
     "name": "stdout",
     "output_type": "stream",
     "text": [
      "Loading sample: BDP1131 \n"
     ]
    },
    {
     "name": "stderr",
     "output_type": "stream",
     "text": [
      "Warning message:\n",
      "“Feature names cannot have underscores ('_'), replacing with dashes ('-')”\n",
      "Warning message:\n",
      "“Feature names cannot have underscores ('_'), replacing with dashes ('-')”\n"
     ]
    },
    {
     "data": {
      "text/html": [
       "TRUE"
      ],
      "text/latex": [
       "TRUE"
      ],
      "text/markdown": [
       "TRUE"
      ],
      "text/plain": [
       "[1] TRUE"
      ]
     },
     "metadata": {},
     "output_type": "display_data"
    },
    {
     "data": {
      "text/html": [
       "<table class=\"dataframe\">\n",
       "<caption>A data.frame: 6 × 3</caption>\n",
       "<thead>\n",
       "\t<tr><th></th><th scope=col>sampleAC</th><th scope=col>celltype_l2</th><th scope=col>celltype_l1.2</th></tr>\n",
       "\t<tr><th></th><th scope=col>&lt;chr&gt;</th><th scope=col>&lt;chr&gt;</th><th scope=col>&lt;chr&gt;</th></tr>\n",
       "</thead>\n",
       "<tbody>\n",
       "\t<tr><th scope=row>BDP1083_GAGACCCAGGTTAGTA-1</th><td>BDP1083_11_mut</td><td>Pod_Injured</td><td>Pod        </td></tr>\n",
       "\t<tr><th scope=row>BDP1083_TGTGGCGCATAGCCTT-1</th><td>BDP1083_11_mut</td><td>SMC        </td><td>SMC        </td></tr>\n",
       "\t<tr><th scope=row>BDP1083_ATTGCATTCCGTTAGC-1</th><td>BDP1083_11_mut</td><td>PC         </td><td>PC         </td></tr>\n",
       "\t<tr><th scope=row>BDP1083_ATTTAGCTCGAGGCGT-1</th><td>BDP1083_11_mut</td><td>PTS_Injured</td><td>PTS_Injured</td></tr>\n",
       "\t<tr><th scope=row>BDP1083_ACTCAATTCACGGACA-1</th><td>BDP1083_11_mut</td><td>TAL        </td><td>TAL        </td></tr>\n",
       "\t<tr><th scope=row>BDP1083_GTGAAACTCAACCAAA-1</th><td>BDP1083_11_mut</td><td>PTS1       </td><td>PTS1       </td></tr>\n",
       "</tbody>\n",
       "</table>\n"
      ],
      "text/latex": [
       "A data.frame: 6 × 3\n",
       "\\begin{tabular}{r|lll}\n",
       "  & sampleAC & celltype\\_l2 & celltype\\_l1.2\\\\\n",
       "  & <chr> & <chr> & <chr>\\\\\n",
       "\\hline\n",
       "\tBDP1083\\_GAGACCCAGGTTAGTA-1 & BDP1083\\_11\\_mut & Pod\\_Injured & Pod        \\\\\n",
       "\tBDP1083\\_TGTGGCGCATAGCCTT-1 & BDP1083\\_11\\_mut & SMC         & SMC        \\\\\n",
       "\tBDP1083\\_ATTGCATTCCGTTAGC-1 & BDP1083\\_11\\_mut & PC          & PC         \\\\\n",
       "\tBDP1083\\_ATTTAGCTCGAGGCGT-1 & BDP1083\\_11\\_mut & PTS\\_Injured & PTS\\_Injured\\\\\n",
       "\tBDP1083\\_ACTCAATTCACGGACA-1 & BDP1083\\_11\\_mut & TAL         & TAL        \\\\\n",
       "\tBDP1083\\_GTGAAACTCAACCAAA-1 & BDP1083\\_11\\_mut & PTS1        & PTS1       \\\\\n",
       "\\end{tabular}\n"
      ],
      "text/markdown": [
       "\n",
       "A data.frame: 6 × 3\n",
       "\n",
       "| <!--/--> | sampleAC &lt;chr&gt; | celltype_l2 &lt;chr&gt; | celltype_l1.2 &lt;chr&gt; |\n",
       "|---|---|---|---|\n",
       "| BDP1083_GAGACCCAGGTTAGTA-1 | BDP1083_11_mut | Pod_Injured | Pod         |\n",
       "| BDP1083_TGTGGCGCATAGCCTT-1 | BDP1083_11_mut | SMC         | SMC         |\n",
       "| BDP1083_ATTGCATTCCGTTAGC-1 | BDP1083_11_mut | PC          | PC          |\n",
       "| BDP1083_ATTTAGCTCGAGGCGT-1 | BDP1083_11_mut | PTS_Injured | PTS_Injured |\n",
       "| BDP1083_ACTCAATTCACGGACA-1 | BDP1083_11_mut | TAL         | TAL         |\n",
       "| BDP1083_GTGAAACTCAACCAAA-1 | BDP1083_11_mut | PTS1        | PTS1        |\n",
       "\n"
      ],
      "text/plain": [
       "                           sampleAC       celltype_l2 celltype_l1.2\n",
       "BDP1083_GAGACCCAGGTTAGTA-1 BDP1083_11_mut Pod_Injured Pod          \n",
       "BDP1083_TGTGGCGCATAGCCTT-1 BDP1083_11_mut SMC         SMC          \n",
       "BDP1083_ATTGCATTCCGTTAGC-1 BDP1083_11_mut PC          PC           \n",
       "BDP1083_ATTTAGCTCGAGGCGT-1 BDP1083_11_mut PTS_Injured PTS_Injured  \n",
       "BDP1083_ACTCAATTCACGGACA-1 BDP1083_11_mut TAL         TAL          \n",
       "BDP1083_GTGAAACTCAACCAAA-1 BDP1083_11_mut PTS1        PTS1         "
      ]
     },
     "metadata": {},
     "output_type": "display_data"
    },
    {
     "data": {
      "text/html": [
       "<style>\n",
       ".list-inline {list-style: none; margin:0; padding: 0}\n",
       ".list-inline>li {display: inline-block}\n",
       ".list-inline>li:not(:last-child)::after {content: \"\\00b7\"; padding: 0 .5ex}\n",
       "</style>\n",
       "<ol class=list-inline><li>'Pod_Injured'</li><li>'SMC'</li><li>'PC'</li><li>'PTS_Injured'</li><li>'TAL'</li><li>'PTS1'</li><li>'Fib'</li><li>'DCT_CNT'</li><li>'DCT'</li><li>'Fib_TAL'</li><li>'MC'</li><li>'PEC'</li><li>'EC1'</li><li>'DTL-ATL'</li><li>'Fib_Mo'</li><li>'Uro'</li><li>'Pod_mut4'</li><li>'EC2'</li><li>'PTS2'</li><li>'Tcell'</li><li>'ICA'</li><li>'Tcell_mixed'</li><li>'Mo'</li><li>'Pod'</li><li>'PTS3'</li><li>'ICB'</li><li>'EC1_EC2'</li><li>'Prol'</li><li>'Fib_PTS'</li><li>'Pod_Mixed'</li></ol>\n"
      ],
      "text/latex": [
       "\\begin{enumerate*}\n",
       "\\item 'Pod\\_Injured'\n",
       "\\item 'SMC'\n",
       "\\item 'PC'\n",
       "\\item 'PTS\\_Injured'\n",
       "\\item 'TAL'\n",
       "\\item 'PTS1'\n",
       "\\item 'Fib'\n",
       "\\item 'DCT\\_CNT'\n",
       "\\item 'DCT'\n",
       "\\item 'Fib\\_TAL'\n",
       "\\item 'MC'\n",
       "\\item 'PEC'\n",
       "\\item 'EC1'\n",
       "\\item 'DTL-ATL'\n",
       "\\item 'Fib\\_Mo'\n",
       "\\item 'Uro'\n",
       "\\item 'Pod\\_mut4'\n",
       "\\item 'EC2'\n",
       "\\item 'PTS2'\n",
       "\\item 'Tcell'\n",
       "\\item 'ICA'\n",
       "\\item 'Tcell\\_mixed'\n",
       "\\item 'Mo'\n",
       "\\item 'Pod'\n",
       "\\item 'PTS3'\n",
       "\\item 'ICB'\n",
       "\\item 'EC1\\_EC2'\n",
       "\\item 'Prol'\n",
       "\\item 'Fib\\_PTS'\n",
       "\\item 'Pod\\_Mixed'\n",
       "\\end{enumerate*}\n"
      ],
      "text/markdown": [
       "1. 'Pod_Injured'\n",
       "2. 'SMC'\n",
       "3. 'PC'\n",
       "4. 'PTS_Injured'\n",
       "5. 'TAL'\n",
       "6. 'PTS1'\n",
       "7. 'Fib'\n",
       "8. 'DCT_CNT'\n",
       "9. 'DCT'\n",
       "10. 'Fib_TAL'\n",
       "11. 'MC'\n",
       "12. 'PEC'\n",
       "13. 'EC1'\n",
       "14. 'DTL-ATL'\n",
       "15. 'Fib_Mo'\n",
       "16. 'Uro'\n",
       "17. 'Pod_mut4'\n",
       "18. 'EC2'\n",
       "19. 'PTS2'\n",
       "20. 'Tcell'\n",
       "21. 'ICA'\n",
       "22. 'Tcell_mixed'\n",
       "23. 'Mo'\n",
       "24. 'Pod'\n",
       "25. 'PTS3'\n",
       "26. 'ICB'\n",
       "27. 'EC1_EC2'\n",
       "28. 'Prol'\n",
       "29. 'Fib_PTS'\n",
       "30. 'Pod_Mixed'\n",
       "\n",
       "\n"
      ],
      "text/plain": [
       " [1] \"Pod_Injured\" \"SMC\"         \"PC\"          \"PTS_Injured\" \"TAL\"        \n",
       " [6] \"PTS1\"        \"Fib\"         \"DCT_CNT\"     \"DCT\"         \"Fib_TAL\"    \n",
       "[11] \"MC\"          \"PEC\"         \"EC1\"         \"DTL-ATL\"     \"Fib_Mo\"     \n",
       "[16] \"Uro\"         \"Pod_mut4\"    \"EC2\"         \"PTS2\"        \"Tcell\"      \n",
       "[21] \"ICA\"         \"Tcell_mixed\" \"Mo\"          \"Pod\"         \"PTS3\"       \n",
       "[26] \"ICB\"         \"EC1_EC2\"     \"Prol\"        \"Fib_PTS\"     \"Pod_Mixed\"  "
      ]
     },
     "metadata": {},
     "output_type": "display_data"
    }
   ],
   "source": [
    "metadata=read.csv('../tab/sc_metadata2.csv',row.names = 1)\n",
    "head(metadata)\n",
    "\n",
    "# Define sample paths\n",
    "samples <- list(\n",
    "  BDP1083 = \"/data/lemsaraa/amina/ST/ourData/sc/06092024/cellranger/BDP1083_filtered_seurat_comp.h5\",\n",
    "  BDP1105 = \"/data/lemsaraa/amina/ST/ourData/sc/06092024/cellranger/BDP1105_filtered_seurat_comp.h5\",\n",
    "  BDP1130 = \"/data/lemsaraa/amina/ST/ourData/sc/06092024/cellranger/BDP1130_filtered_seurat_comp.h5\",\n",
    "  BDP1131 = \"/data/lemsaraa/amina/ST/ourData/sc/06092024/cellranger/BDP1131_filtered_seurat_comp.h5\"\n",
    ")\n",
    "\n",
    "# Create an empty list to store Seurat objects\n",
    "seurat_objects <- list()\n",
    "\n",
    "# Loop through each sample and read the H5 file into a Seurat object\n",
    "for (sample_id in names(samples)) {\n",
    "  cat(\"Loading sample:\", sample_id, \"\\n\")\n",
    "  \n",
    "  # Convert H5 file to Seurat object\n",
    "  counts <- Read10X_h5(samples[[sample_id]])\n",
    "  \n",
    "  # Create a Seurat object\n",
    "  seurat_obj <- CreateSeuratObject(counts = counts, project = sample_id)\n",
    "  \n",
    "  # Add sample metadata\n",
    "  seurat_obj$sample_id <- sample_id\n",
    "  \n",
    "  # Store the object in the list\n",
    "  seurat_objects[[sample_id]] <- seurat_obj\n",
    "}\n",
    "\n",
    "# Merge all Seurat objects into one\n",
    "ref <- merge(\n",
    "  x = seurat_objects[[1]], \n",
    "  y = seurat_objects[-1], \n",
    "  add.cell.ids = names(seurat_objects)\n",
    ")\n",
    "ref=ref[,rownames(metadata)]\n",
    "all(rownames(ref@meta.data)==rownames(metadata))\n",
    "ref@meta.data=metadata\n",
    "head(ref@meta.data)\n",
    "ref=ref[,ref$celltype_l2!='Unknown']\n",
    "unique(ref$celltype_l2)"
   ]
  },
  {
   "cell_type": "code",
   "execution_count": 5,
   "id": "c0098530",
   "metadata": {},
   "outputs": [],
   "source": [
    "# trace(\"LoadXenium\",edit=TRUE)\n",
    "LoadXenium=function (data.dir, fov = \"fov\", assay = \"Xenium\")\n",
    "{\n",
    "    data <- ReadXenium(data.dir = data.dir, type = c(\"centroids\", \n",
    "        \"segmentations\"), )\n",
    "    segmentations.data <- list(centroids = CreateCentroids(data$centroids),\n",
    "        segmentation = CreateSegmentation(data$segmentations))\n",
    "    coords <- CreateFOV(coords = segmentations.data, type = c(\"segmentation\",\n",
    "        \"centroids\"), molecules = data$microns, assay = assay)\n",
    "    xenium.obj <- CreateSeuratObject(counts = data$matrix[[\"Gene Expression\"]],\n",
    "        assay = assay)\n",
    "    xenium.obj[[\"BlankCodeword\"]] <- CreateAssayObject(counts = data$matrix[[\"Unassigned Codeword\"]])\n",
    "    xenium.obj[[\"ControlCodeword\"]] <- CreateAssayObject(counts = data$matrix[[\"Negative Control Codeword\"]])\n",
    "    xenium.obj[[\"ControlProbe\"]] <- CreateAssayObject(counts = data$matrix[[\"Negative Control Probe\"]])\n",
    "    xenium.obj[[fov]] <- coords\n",
    "    return(xenium.obj)\n",
    "}"
   ]
  },
  {
   "cell_type": "code",
   "execution_count": 6,
   "id": "a0f373aa",
   "metadata": {},
   "outputs": [],
   "source": [
    "# Define the dictionary of dataset paths\n",
    "dataset_paths <- list(\n",
    "  '0027292__Region_1__20240530__125814' = \"/data/lemsaraa/amina/ST/ourData/20240530__124752__A4413_ST014_X0069_X0070/output-XETG00046__\",\n",
    "  '0027292__Region_2__20240530__125814' = \"/data/lemsaraa/amina/ST/ourData/20240530__124752__A4413_ST014_X0069_X0070/output-XETG00046__\",\n",
    "  '0027292__Region_3__20240530__125814' = \"/data/lemsaraa/amina/ST/ourData/20240530__124752__A4413_ST014_X0069_X0070/output-XETG00046__\",\n",
    "  '0027292__Region_4__20240530__125814' = \"/data/lemsaraa/amina/ST/ourData/20240530__124752__A4413_ST014_X0069_X0070/output-XETG00046__\",\n",
    "  '0027291__Region_1__20240530__125814' = \"/data/lemsaraa/amina/ST/ourData/20240530__124752__A4413_ST014_X0069_X0070/output-XETG00046__\",\n",
    "  '0027291__Region_2__20240530__125814' = \"/data/lemsaraa/amina/ST/ourData/20240530__124752__A4413_ST014_X0069_X0070/output-XETG00046__\",\n",
    "  '0027291__Region_3__20240530__125814' = \"/data/lemsaraa/amina/ST/ourData/20240530__124752__A4413_ST014_X0069_X0070/output-XETG00046__\",\n",
    "  '0027291__Region_4__20240530__125814' = \"/data/lemsaraa/amina/ST/ourData/20240530__124752__A4413_ST014_X0069_X0070/output-XETG00046__\",\n",
    "  '0027119__Region_1__20240621__120943'= \"/data/lemsaraa/amina/ST/ourData/20240621__120000__ST014_X0071_X0072_A4413/output-XETG00046__\",\n",
    "  '0027119__Region_2__20240621__120943'= \"/data/lemsaraa/amina/ST/ourData/20240621__120000__ST014_X0071_X0072_A4413/output-XETG00046__\",\n",
    "  '0027120__Region_1__20240621__120943'=\"/data/lemsaraa/amina/ST/ourData/20240621__120000__ST014_X0071_X0072_A4413/output-XETG00046__\",\n",
    "  '0027120__Region_2__20240621__120943'= \"/data/lemsaraa/amina/ST/ourData/20240621__120000__ST014_X0071_X0072_A4413/output-XETG00046__\"\n",
    ")\n"
   ]
  },
  {
   "cell_type": "markdown",
   "id": "fa20e154",
   "metadata": {},
   "source": [
    "# Cell Annotation"
   ]
  },
  {
   "cell_type": "code",
   "execution_count": null,
   "id": "15802b9a",
   "metadata": {
    "scrolled": true
   },
   "outputs": [
    {
     "name": "stderr",
     "output_type": "stream",
     "text": [
      "10X data contains more than one type and is being returned as a list containing matrices of each type.\n",
      "\n",
      "Warning message:\n",
      "“Feature names cannot have underscores ('_'), replacing with dashes ('-')”\n",
      "Warning message:\n",
      "“Feature names cannot have underscores ('_'), replacing with dashes ('-')”\n",
      "Warning message:\n",
      "“Feature names cannot have underscores ('_'), replacing with dashes ('-')”\n",
      "Warning message:\n",
      "“Feature names cannot have underscores ('_'), replacing with dashes ('-')”\n",
      "Warning message:\n",
      "“Feature names cannot have underscores ('_'), replacing with dashes ('-')”\n",
      "Warning message:\n",
      "“Feature names cannot have underscores ('_'), replacing with dashes ('-')”\n",
      "Computing spatial radius\n",
      "\n",
      "Warning message:\n",
      "“did not converge in 10 iterations”\n",
      "Warning message:\n",
      "“did not converge in 10 iterations”\n",
      "Warning message:\n",
      "“did not converge in 10 iterations”\n",
      "Warning message:\n",
      "“did not converge in 10 iterations”\n",
      "Warning message:\n",
      "“did not converge in 10 iterations”\n",
      "Warning message:\n",
      "“did not converge in 10 iterations”\n",
      "Warning message:\n",
      "“did not converge in 10 iterations”\n",
      "Warning message:\n",
      "“did not converge in 10 iterations”\n"
     ]
    }
   ],
   "source": [
    "for (dataset_name in names(dataset_paths)) {\n",
    "    dataset_path <- dataset_paths[[dataset_name]]  # Get the path for the current dataset\n",
    "    \n",
    "    # Load Xenium object using the path from the dictionary\n",
    "    xenium.ob <- LoadXenium(paste0(dataset_path,dataset_name), fov = \"fov\")\n",
    "    mop_sub_sub <- xenium.ob@assays$Xenium@counts\n",
    "    coord_sub_sub <- as.data.frame(xenium.ob@images$fov@boundaries$centroids@coords, \n",
    "                                   row.names = colnames(mop_sub_sub))\n",
    "\n",
    "    # Run DOT workflow\n",
    "    dot_srt <- setup.srt(srt_data = mop_sub_sub, srt_coords = coord_sub_sub)\n",
    "    dot_ref <- setup.ref(ref_data = ref, ref_annotations = ref$celltype_l2)\n",
    "    dot <- create.DOT(dot_srt, dot_ref)\n",
    "    dot <- run.DOT.highresolution(dot, verbose = FALSE)\n",
    "    predicted_annotation <- colnames(dot@weights)[apply(dot@weights, 1, which.max)]\n",
    "    write.csv(as.data.frame(predicted_annotation,row.names =rownames(dot@weights) ),paste0(out_folder,'/CellAnnotation_',dataset_name,'_dot_celltype_l2.csv'))\n",
    "  }\n"
   ]
  },
  {
   "cell_type": "markdown",
   "id": "604700bc",
   "metadata": {},
   "source": [
    "# LeftOut Genes Estimation"
   ]
  },
  {
   "cell_type": "code",
   "execution_count": null,
   "id": "d34d8eba",
   "metadata": {},
   "outputs": [],
   "source": [
    "leftout_genes <- c('Wt1','Nphs2','Podxl','Cldn2','Igfbp5','Vim','Plvap','Cp','Ctss','Pck1')\n",
    "for (dataset_name in names(dataset_paths)) {\n",
    "    dataset_path <- dataset_paths[[dataset_name]]  # Get the path for the current dataset\n",
    "    \n",
    "    # Load Xenium object using the path from the dictionary\n",
    "    xenium.ob <- LoadXenium(paste0(dataset_path,dataset_name), fov = \"fov\")\n",
    "    mop_sub_sub <- xenium.ob@assays$Xenium@counts\n",
    "    coord_sub_sub <- as.data.frame(xenium.ob@images$fov@boundaries$centroids@coords, \n",
    "                                   row.names = colnames(mop_sub_sub))\n",
    "    \n",
    "    # Exclude leftout genes\n",
    "    mop_sub_sub <- mop_sub_sub[!(rownames(mop_sub_sub) %in% leftout_genes), ]\n",
    "    \n",
    "    # Run DOT workflow\n",
    "    dot_srt <- setup.srt(srt_data = mop_sub_sub, srt_coords = coord_sub_sub)\n",
    "    dot_ref <- setup.ref(ref_data = ref, ref_annotations = ref$celltype_l2)\n",
    "    dot <- create.DOT(dot_srt, dot_ref)\n",
    "    dot <- run.DOT.highresolution(dot, verbose = FALSE)\n",
    "    cellt <- colnames(dot@weights)[apply(dot@weights, 1, which.max)]\n",
    "  \n",
    "    # Normalize data\n",
    "    ref <- NormalizeData(ref)\n",
    "    xenium.ob <- NormalizeData(xenium.ob)\n",
    "    \n",
    "    # Get common genes and compute predictions\n",
    "    avr <- Seurat::AverageExpression(ref, group.by = \"celltype_l2\")$RNA\n",
    "    avr <- avr[, colnames(dot@weights)]\n",
    "      \n",
    "    common_genes <- intersect(rownames(avr), rownames(xenium.ob))\n",
    "    \n",
    "    gene_pred <- avr %*% t(dot@weights)\n",
    "    gene_org <- as.matrix(xenium.ob@assays$Xenium@data[common_genes,])\n",
    "    gene_pred <- gene_pred[common_genes, colnames(mop_sub_sub)]\n",
    "    \n",
    "    # Compute correlation and cosine similarity\n",
    "    result_gene <- corr_cos_plot(gene_org, gene_pred, sample = FALSE)\n",
    "    correlation_results <- result_gene$correlation_results\n",
    "    cosine_results <- result_gene$cosine_results\n",
    "    \n",
    "    # Save results for each gene in this dataset\n",
    "    df=data.frame(\n",
    "      Gene = names(correlation_results),\n",
    "      Correlation = correlation_results,\n",
    "      Cosine = cosine_results\n",
    "    )\n",
    "    df= df%>% filter(Gene %in% leftout_genes)\n",
    "    write.csv(df,paste0(out_folder,'/GEestimation_',dataset_name,'_dot_celltype_l2.csv'))\n",
    "\n",
    "}"
   ]
  },
  {
   "cell_type": "code",
   "execution_count": null,
   "id": "a7ce8f72",
   "metadata": {},
   "outputs": [],
   "source": []
  }
 ],
 "metadata": {
  "kernelspec": {
   "display_name": "R",
   "language": "R",
   "name": "ir"
  },
  "language_info": {
   "codemirror_mode": "r",
   "file_extension": ".r",
   "mimetype": "text/x-r-source",
   "name": "R",
   "pygments_lexer": "r",
   "version": "4.2.3"
  }
 },
 "nbformat": 4,
 "nbformat_minor": 5
}

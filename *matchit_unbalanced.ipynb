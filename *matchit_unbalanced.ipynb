{
 "cells": [
  {
   "cell_type": "code",
   "execution_count": 1,
   "id": "ca37e714",
   "metadata": {},
   "outputs": [
    {
     "name": "stderr",
     "output_type": "stream",
     "text": [
      "2025-01-02 10:48:23.812554: I tensorflow/core/platform/cpu_feature_guard.cc:193] This TensorFlow binary is optimized with oneAPI Deep Neural Network Library (oneDNN) to use the following CPU instructions in performance-critical operations:  AVX2 FMA\n",
      "To enable them in other operations, rebuild TensorFlow with the appropriate compiler flags.\n",
      "2025-01-02 10:48:23.990035: W tensorflow/compiler/xla/stream_executor/platform/default/dso_loader.cc:64] Could not load dynamic library 'libcudart.so.11.0'; dlerror: libcudart.so.11.0: cannot open shared object file: No such file or directory\n",
      "2025-01-02 10:48:23.990070: I tensorflow/compiler/xla/stream_executor/cuda/cudart_stub.cc:29] Ignore above cudart dlerror if you do not have a GPU set up on your machine.\n",
      "2025-01-02 10:48:25.706213: W tensorflow/compiler/xla/stream_executor/platform/default/dso_loader.cc:64] Could not load dynamic library 'libnvinfer.so.7'; dlerror: libnvinfer.so.7: cannot open shared object file: No such file or directory\n",
      "2025-01-02 10:48:25.706313: W tensorflow/compiler/xla/stream_executor/platform/default/dso_loader.cc:64] Could not load dynamic library 'libnvinfer_plugin.so.7'; dlerror: libnvinfer_plugin.so.7: cannot open shared object file: No such file or directory\n",
      "2025-01-02 10:48:25.706320: W tensorflow/compiler/tf2tensorrt/utils/py_utils.cc:38] TF-TRT Warning: Cannot dlopen some TensorRT libraries. If you would like to use Nvidia GPU with TensorRT, please make sure the missing libraries mentioned above are installed properly.\n",
      "/home/lemsaraa/miniconda3/envs/env1/lib/python3.10/site-packages/stlearn/tools/microenv/cci/het.py:192: NumbaDeprecationWarning: \u001b[1mThe keyword argument 'nopython=False' was supplied. From Numba 0.59.0 the default is being changed to True and use of 'nopython=False' will raise a warning as the argument will have no effect. See https://numba.readthedocs.io/en/stable/reference/deprecation.html#deprecation-of-object-mode-fall-back-behaviour-when-using-jit for details.\u001b[0m\n",
      "  @jit(parallel=True, nopython=False)\n"
     ]
    }
   ],
   "source": [
    "from src.ot_annotator2 import OTAnnotator\n",
    "import time\n",
    "import scanpy as sc\n",
    "import anndata as ad\n",
    "import pandas as pd\n",
    "import numpy as np\n",
    "from hyperopt import hp\n",
    "import stlearn as st\n",
    "import sys\n",
    "import warnings\n",
    "import os\n",
    "\n",
    "warnings.filterwarnings(\"ignore\")\n",
    "np.random.seed(42) "
   ]
  },
  {
   "cell_type": "code",
   "execution_count": 2,
   "id": "99ba01bf",
   "metadata": {},
   "outputs": [
    {
     "name": "stdout",
     "output_type": "stream",
     "text": [
      "Folder already exists: tab_out2\n"
     ]
    }
   ],
   "source": [
    "# output folder\n",
    "out_folder = \"tab_out2\"\n",
    "if not os.path.exists(out_folder):\n",
    "    os.makedirs(out_folder, exist_ok=True)\n",
    "else:\n",
    "    print(f\"Folder already exists: {out_folder}\")\n"
   ]
  },
  {
   "cell_type": "code",
   "execution_count": 3,
   "id": "d2ec2fbb",
   "metadata": {},
   "outputs": [],
   "source": [
    "# input data\n",
    "dataset_paths = {\n",
    "  '0027292__Region_1__20240530__125814' : \"/data/lemsaraa/amina/ST/ourData/20240530__124752__A4413_ST014_X0069_X0070/output-XETG00046__\",\n",
    "  '0027292__Region_2__20240530__125814' : \"/data/lemsaraa/amina/ST/ourData/20240530__124752__A4413_ST014_X0069_X0070/output-XETG00046__\",\n",
    "  '0027292__Region_3__20240530__125814' : \"/data/lemsaraa/amina/ST/ourData/20240530__124752__A4413_ST014_X0069_X0070/output-XETG00046__\",\n",
    "  '0027292__Region_4__20240530__125814' : \"/data/lemsaraa/amina/ST/ourData/20240530__124752__A4413_ST014_X0069_X0070/output-XETG00046__\",\n",
    "  '0027291__Region_1__20240530__125814' : \"/data/lemsaraa/amina/ST/ourData/20240530__124752__A4413_ST014_X0069_X0070/output-XETG00046__\",\n",
    "  '0027291__Region_2__20240530__125814' : \"/data/lemsaraa/amina/ST/ourData/20240530__124752__A4413_ST014_X0069_X0070/output-XETG00046__\",\n",
    "  '0027291__Region_3__20240530__125814' : \"/data/lemsaraa/amina/ST/ourData/20240530__124752__A4413_ST014_X0069_X0070/output-XETG00046__\",\n",
    "  '0027291__Region_4__20240530__125814' : \"/data/lemsaraa/amina/ST/ourData/20240530__124752__A4413_ST014_X0069_X0070/output-XETG00046__\",\n",
    "  '0027119__Region_1__20240621__120943': \"/data/lemsaraa/amina/ST/ourData/20240621__120000__ST014_X0071_X0072_A4413/output-XETG00046__\",\n",
    "  '0027119__Region_2__20240621__120943': \"/data/lemsaraa/amina/ST/ourData/20240621__120000__ST014_X0071_X0072_A4413/output-XETG00046__\",\n",
    "  '0027120__Region_1__20240621__120943':\"/data/lemsaraa/amina/ST/ourData/20240621__120000__ST014_X0071_X0072_A4413/output-XETG00046__\",\n",
    "  '0027120__Region_2__20240621__120943': \"/data/lemsaraa/amina/ST/ourData/20240621__120000__ST014_X0071_X0072_A4413/output-XETG00046__\"\n",
    "}"
   ]
  },
  {
   "cell_type": "code",
   "execution_count": 4,
   "id": "fb76b17e",
   "metadata": {},
   "outputs": [],
   "source": [
    "# hyperopt parameter space\n",
    "# param_space = {\n",
    "#             \"reg\": hp.loguniform(\"reg\", np.log(0.0001), np.log(1)),\n",
    "#             \"reg_m_kl_1\": hp.loguniform(\"reg_m_kl_1\", np.log(0.0001), np.log(1)), #hp.uniform(\"reg_m_kl_1\", 0, 500),\n",
    "#             \"reg_m_kl_2\":hp.loguniform(\"reg_m_kl_2\", np.log(0.0001), np.log(1)),# hp.uniform(\"reg_m_kl_2\", 0, 500),\n",
    "#             \"method\": hp.choice(\"method\", ['sinkhorn']),\n",
    "#             \"reg_type\": hp.choice(\"reg_type\", ['entropy'])\n",
    "#         }\n",
    "\n",
    "param_space = {\n",
    "            \"reg\": hp.loguniform(\"reg\", np.log(0.0001), np.log(1)),\n",
    "            \"reg_m_kl_1\": hp.loguniform(\"reg_m_kl_1\", np.log(0.0001), np.log(10)), #hp.uniform(\"reg_m_kl_1\", 0, 500),\n",
    "            \"reg_m_kl_2\": hp.loguniform(\"reg_m_kl_2\", np.log(0.0001), np.log(10)),# hp.uniform(\"reg_m_kl_2\", 0, 500),\n",
    "            \"method\": hp.choice(\"method\", ['sinkhorn']),\n",
    "            \"reg_type\": hp.choice(\"reg_type\", ['kl'])\n",
    "        }\n"
   ]
  },
  {
   "cell_type": "markdown",
   "id": "89652c98",
   "metadata": {},
   "source": [
    "# Load scRNAseq reference data with cell annotation"
   ]
  },
  {
   "cell_type": "code",
   "execution_count": 5,
   "id": "55aaba57",
   "metadata": {},
   "outputs": [],
   "source": [
    "metadata=pd.read_csv('/data/lemsaraa/amina/ST/Xenium_analysis/tab/sc_metadata.csv',index_col=0)\n",
    "metadata.head()\n",
    "\n",
    "samples = {\n",
    "    \"BDP1083\": \"/data/lemsaraa/amina/ST/ourData/sc/06092024/cellranger/BDP1083_filtered_seurat_comp.h5\",\n",
    "    \"BDP1105\": \"/data/lemsaraa/amina/ST/ourData/sc/06092024/cellranger/BDP1105_filtered_seurat_comp.h5\",\n",
    "    \"BDP1130\": \"/data/lemsaraa/amina/ST/ourData/sc/06092024/cellranger/BDP1130_filtered_seurat_comp.h5\",\n",
    "    \"BDP1131\": \"/data/lemsaraa/amina/ST/ourData/sc/06092024/cellranger/BDP1131_filtered_seurat_comp.h5\",\n",
    "}\n",
    "adatas = {}\n",
    "for sample_id, path in samples.items():\n",
    "    sample_adata = sc.read_10x_h5(path)\n",
    "    sample_adata.obs_names= sample_id+'_'+sample_adata.obs_names\n",
    "    sample_adata.var_names_make_unique()\n",
    "    adatas[sample_id] = sample_adata\n",
    "\n",
    "adata_ref = ad.concat(adatas, label=\"sample\")\n",
    "adata_ref=adata_ref[metadata.index,:]\n",
    "adata_ref.obs=metadata"
   ]
  },
  {
   "cell_type": "markdown",
   "id": "dc119760",
   "metadata": {},
   "source": [
    "# Cell Annotation (per cell)"
   ]
  },
  {
   "cell_type": "code",
   "execution_count": 6,
   "id": "9b1050c6",
   "metadata": {
    "scrolled": true
   },
   "outputs": [
    {
     "name": "stdout",
     "output_type": "stream",
     "text": [
      "WARNING: adata.X seems to be already log-transformed.\n",
      "WARNING: adata.X seems to be already log-transformed.\n",
      "WARNING: adata.X seems to be already log-transformed.\n",
      "WARNING: adata.X seems to be already log-transformed.\n",
      "WARNING: adata.X seems to be already log-transformed.\n",
      "WARNING: adata.X seems to be already log-transformed.\n",
      "WARNING: adata.X seems to be already log-transformed.\n",
      "WARNING: adata.X seems to be already log-transformed.\n",
      "WARNING: adata.X seems to be already log-transformed.\n",
      "WARNING: adata.X seems to be already log-transformed.\n",
      "WARNING: adata.X seems to be already log-transformed.\n",
      "WARNING: adata.X seems to be already log-transformed.\n",
      "WARNING: adata.X seems to be already log-transformed.\n",
      "WARNING: adata.X seems to be already log-transformed.\n",
      "WARNING: adata.X seems to be already log-transformed.\n",
      "WARNING: adata.X seems to be already log-transformed.\n",
      "WARNING: adata.X seems to be already log-transformed.\n",
      "WARNING: adata.X seems to be already log-transformed.\n",
      "WARNING: adata.X seems to be already log-transformed.\n",
      "WARNING: adata.X seems to be already log-transformed.\n",
      "WARNING: adata.X seems to be already log-transformed.\n",
      "WARNING: adata.X seems to be already log-transformed.\n",
      "WARNING: adata.X seems to be already log-transformed.\n",
      "WARNING: adata.X seems to be already log-transformed.\n",
      "WARNING: adata.X seems to be already log-transformed.\n",
      "WARNING: adata.X seems to be already log-transformed.\n",
      "WARNING: adata.X seems to be already log-transformed.\n",
      "WARNING: adata.X seems to be already log-transformed.\n",
      "WARNING: adata.X seems to be already log-transformed.\n",
      "WARNING: adata.X seems to be already log-transformed.\n",
      "WARNING: adata.X seems to be already log-transformed.\n",
      "WARNING: adata.X seems to be already log-transformed.\n",
      "WARNING: adata.X seems to be already log-transformed.\n"
     ]
    }
   ],
   "source": [
    "task = 'Unbalanced_evaluation'\n",
    "way = 'all'\n",
    "verbose = True\n",
    "nb_cluster = 10\n",
    "metric = 'cosine'\n",
    "op_iter = 100\n",
    "key_ref = 'celltype_l2'\n",
    "key_tar = 'leiden'\n",
    "res = pd.DataFrame()\n",
    "\n",
    "# Open a log file and redirect standard output\n",
    "log_file = open(f\"{out_folder}/{task}_verbose_matchit_{way}_{key_ref}.log\", \"w\")\n",
    "sys.stdout = log_file  \n",
    "\n",
    "if verbose:\n",
    "    print(f\"\"\"\n",
    "    ## Configuration:\n",
    "    Task = {task}\n",
    "    Mapping Strategy = {way}\n",
    "    Distance Metric = {metric}\n",
    "    Reference Annotation = {key_ref}\n",
    "    Target Clustering = {key_tar}\n",
    "    Number of Clusters = {nb_cluster}        \n",
    "    HyperOPT Iterations = {op_iter}\n",
    "    \"\"\")\n",
    "cellt=['','Pod_Injured','Pod_mut4']\n",
    "# Iterate through datasets and paths\n",
    "for sample in cellt:\n",
    "    print(f\"celltype excluded: {sample}\")\n",
    "    adata_ref_ = adata_ref[adata_ref.obs['celltype_l2'] != sample, :]\n",
    "    \n",
    "    for DATASET, DATA_DIR in dataset_paths.items():\n",
    "        dataset_path = DATA_DIR + DATASET + \"/\"\n",
    "        print(dataset_path)\n",
    "        \n",
    "        start_time = time.time()\n",
    "        print(f\"Start time: {time.strftime('%Y-%m-%d %H:%M:%S', time.localtime(start_time))}\")\n",
    "        \n",
    "        # Read Xenium dataset\n",
    "        adata = st.ReadXenium(\n",
    "            feature_cell_matrix_file=dataset_path + \"cell_feature_matrix.h5\",\n",
    "            cell_summary_file=dataset_path + \"cells.csv.gz\"\n",
    "        )\n",
    "        annotation=pd.read_csv(out_folder+\"/CellAnnotation_\"+DATASET+\"_matchit_all_celltype_l2.csv\",index_col=0)\n",
    "        annotation= annotation[annotation[\"predicted_annotation\"].map(annotation[\"predicted_annotation\"].value_counts()) > 1]    \n",
    "        adata=adata[annotation.index,:]\n",
    "        adata.obs['predicted_annotation']=annotation['predicted_annotation']\n",
    "        adata=adata[adata.obs['predicted_annotation'].isin(['Pod_Injured','Pod_mut4','Pod']),:]\n",
    "        # Exclude the current sample from the reference data\n",
    "        \n",
    "        # Identify genes of interest\n",
    "        gene_interest = adata_ref.var_names.intersection(adata.var_names)\n",
    "        \n",
    "        # Initialize OTAnnotator\n",
    "        annotator = OTAnnotator(\n",
    "            adata, \n",
    "            adata_ref_, \n",
    "            gene_interest, \n",
    "            param_space=param_space,\n",
    "            key_ref=key_ref, \n",
    "            key_tar=key_tar, \n",
    "            way=way, \n",
    "            verbose=verbose\n",
    "        )\n",
    "        \n",
    "        # Perform subclustering and mapping\n",
    "        print('*** Step 1: Subcluster Reference and Target ***') \n",
    "        annotator.subcluster(nb_cluster=nb_cluster)\n",
    "        \n",
    "        print('*** Step 2: Mapping ***')\n",
    "        annotator.annotate(op_iter=op_iter, metric=metric)\n",
    "        \n",
    "        print(\"Best Parameters:\", annotator.best_params)\n",
    "        \n",
    "        # Log execution details\n",
    "        end_time = time.time()\n",
    "        print(f\"End time: {time.strftime('%Y-%m-%d %H:%M:%S', time.localtime(end_time))}\")\n",
    "        print(f\"Execution time: {end_time - start_time:.2f} seconds\")\n",
    "        \n",
    "        # Save results to the DataFrame\n",
    "        res = pd.concat([res, pd.DataFrame([{\n",
    "            'dataset': DATASET,\n",
    "            'sample': sample,\n",
    "            'reg_m_kl_1': annotator.best_params['reg_m_kl_1'],\n",
    "            'reg_m_kl_2': annotator.best_params['reg_m_kl_2']\n",
    "        }])], ignore_index=True)\n",
    "\n",
    "# Restore standard output and close the log file\n",
    "print(\"\\nEnded successfully.\") \n",
    "sys.stdout = sys.__stdout__  \n",
    "log_file.close()\n"
   ]
  },
  {
   "cell_type": "code",
   "execution_count": 7,
   "id": "e3dca2e6",
   "metadata": {},
   "outputs": [],
   "source": [
    "res.to_csv(f\"{out_folder}/{task}_matchit_{way}.csv\")"
   ]
  },
  {
   "cell_type": "code",
   "execution_count": null,
   "id": "524b14a1",
   "metadata": {},
   "outputs": [],
   "source": []
  }
 ],
 "metadata": {
  "kernelspec": {
   "display_name": "Python 3 (ipykernel)",
   "language": "python",
   "name": "python3"
  },
  "language_info": {
   "codemirror_mode": {
    "name": "ipython",
    "version": 3
   },
   "file_extension": ".py",
   "mimetype": "text/x-python",
   "name": "python",
   "nbconvert_exporter": "python",
   "pygments_lexer": "ipython3",
   "version": "3.10.13"
  }
 },
 "nbformat": 4,
 "nbformat_minor": 5
}
